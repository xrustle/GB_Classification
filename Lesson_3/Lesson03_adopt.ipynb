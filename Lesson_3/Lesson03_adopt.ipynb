{
 "cells": [
  {
   "cell_type": "markdown",
   "metadata": {},
   "source": [
    "## Урок 3.\n",
    "# Построение модели классификации.\n",
    "\n",
    "**План занятия**\n",
    "\n",
    "* [Теоретическая часть](#theory)\n",
    "    * [Балансировка классов](#class_balancing)\n",
    "    * [Схемы оценки обобщающей способности алгоритма](#generalizing_ability)\n",
    "    * [Обзор алгоритмов классификации](#classification_models)\n",
    "        * [Логистическая регрессия](#logreg)\n",
    "        * [Метод опорных векторов](#svm)\n",
    "        * [k ближайших соседей](#knn)\n",
    "        * [Случайный лес и бустинговые алгоритмы](#rb_and_gb)\n",
    "* [Практическая часть](#practice)\n",
    "    * [Загрузка данных](#load_data)\n",
    "    * [Отбор признаков](#feature_selection)\n",
    "    * [Нормализация данных](#normalization)\n",
    "    * [Разбиение на train и test](#train_and_test)\n",
    "    * [Балансировка целевой переменной](#target_balancing)\n",
    "    * [Построение и оценка базовых моделей](#baseline_modeling)\n",
    "    * [Выбор лучшей модели и подбор гиперпараметров](#tuning_best_model)\n",
    "    * [Сохранение модели](#saving_model)"
   ]
  },
  {
   "cell_type": "markdown",
   "metadata": {},
   "source": [
    "## <center>Теоретическая часть<a class=\"anchor\" id=\"theory\"></a><center>"
   ]
  },
  {
   "cell_type": "markdown",
   "metadata": {},
   "source": [
    "### Балансировка классов<a class=\"anchor\" id=\"class_balancing\"></a>"
   ]
  },
  {
   "cell_type": "markdown",
   "metadata": {},
   "source": [
    "**Описание проблемы**\n",
    "\n",
    "Для многих алгоритмов классификации существенной проблемой является дисбаланс классов целевой переменной. В случаях когда примеров одного класса существенно больше, чем примеров другого класса, возникает вероятность того, что алгоритм переучиться на примерах превалирующего класса. Ситуация ещё больше усугубляется при многоклассовой классификации. \n",
    "\n",
    "**Способы борьбы с дисбалансом классов**\n",
    "\n",
    "1. Собрать больше данных\n",
    "2. Выбрать подходящую метрику качества\n",
    "3. Попробовать разные модели, одни модели более устойчивы к несбалансированным данным, чем другие\n",
    "4. Штраф за ошибки при прогнозе меньшего класса\n",
    "5. Undersampling и Oversampling\n",
    "6. Создание синтетических примеров для меньшего класса"
   ]
  },
  {
   "cell_type": "markdown",
   "metadata": {},
   "source": [
    "<img src=\"balancing.png\">"
   ]
  },
  {
   "cell_type": "markdown",
   "metadata": {},
   "source": [
    "### Схемы оценки обобщающей способности алгоритма<a class=\"anchor\" id=\"generalizing_ability\"></a>"
   ]
  },
  {
   "cell_type": "markdown",
   "metadata": {},
   "source": [
    "**Обобщающая способность алгоритма**\n",
    "\n",
    "Модель, обладающая хорошей обобщающей способностью, способна предсказывать примерно на одном и том же уровне качества, как на обучающем датасете, так и на новых данных.\n",
    "\n",
    "В процессе построения модели, нам необходимо оценивать качество прогнозов на данных, которые модель не видела во время обучения, чтобы избежать недообучения / переобучения нашего алгоритма. Мы поговорим подробнее об этих явлениях на следующем занятии. \n",
    "\n",
    "Для эмитации прогнозирования на новых данных, имея в распоряжении только обучающую выборку, используют два приёма - *отложенную выборку* и *кросс-валидацию*.\n",
    "\n",
    "**Отложенная выборка**\n",
    "\n",
    "Обучающая выборка разбивается на две части train и test, в тестовую часть, как правило, идёт от 20% до 33% наблюдений, остальное в обучающую. На обучающей части мы тренируем нашу модель и настраиваем гиперпараметры, а после сравниваем прогнозы между обучающей и тестовой частями, что бы понять, как модель поведёт себя на данных, которые не видела до этого.\n",
    "\n",
    "**Кросс-валидация**\n",
    "\n",
    "Данный способ, в своей основе, похож на предыдущий. Обучающая выборка разбивается на k непересекающихся частей, как правило 3 или 5, после чего каждая из частей поочерёдно выступает в роли тестовой части, а оставшиеся в роли обучающей. Таким образом модель проходи k стадий проверок, полностью задействуя обучающий датасет."
   ]
  },
  {
   "cell_type": "markdown",
   "metadata": {},
   "source": [
    "<img src=\"cross_val.png\">"
   ]
  },
  {
   "cell_type": "markdown",
   "metadata": {},
   "source": [
    "### Обзор алгоритмов классификации<a class=\"anchor\" id=\"classification_models\"></a>"
   ]
  },
  {
   "cell_type": "markdown",
   "metadata": {},
   "source": [
    "**Логистическая регрессия**<a class=\"anchor\" id=\"logreg\"></a>"
   ]
  },
  {
   "cell_type": "markdown",
   "metadata": {},
   "source": [
    "<img src=\"log_reg.png\">"
   ]
  },
  {
   "cell_type": "markdown",
   "metadata": {},
   "source": [
    "**Метод опорных векторов**<a class=\"anchor\" id=\"svm\"></a>"
   ]
  },
  {
   "cell_type": "markdown",
   "metadata": {},
   "source": [
    "<img src=\"svm.png\">"
   ]
  },
  {
   "cell_type": "markdown",
   "metadata": {},
   "source": [
    "**k ближайших соседей**<a class=\"anchor\" id=\"knn\"></a>"
   ]
  },
  {
   "cell_type": "markdown",
   "metadata": {},
   "source": [
    "<img src=\"knn.png\">"
   ]
  },
  {
   "cell_type": "markdown",
   "metadata": {},
   "source": [
    "**Случайный лес (бэгинг) и бустинговые алгоритмы**<a class=\"anchor\" id=\"rb_and_gb\"></a>"
   ]
  },
  {
   "cell_type": "markdown",
   "metadata": {},
   "source": [
    "<img src=\"rf.jpg\">"
   ]
  },
  {
   "cell_type": "markdown",
   "metadata": {},
   "source": [
    "## <center>Практическая часть<a class=\"anchor\" id=\"practice\"></a><center>"
   ]
  },
  {
   "cell_type": "markdown",
   "metadata": {},
   "source": [
    "**Подключение библиотек и скриптов**"
   ]
  },
  {
   "cell_type": "code",
   "execution_count": 1,
   "metadata": {},
   "outputs": [],
   "source": [
    "# !pip install xgboost\n",
    "# !pip install lightgbm\n",
    "# !pip install catboost"
   ]
  },
  {
   "cell_type": "code",
   "execution_count": 28,
   "metadata": {},
   "outputs": [],
   "source": [
    "import pandas as pd\n",
    "import numpy as np\n",
    "import pickle\n",
    "import random\n",
    "\n",
    "from sklearn.preprocessing import StandardScaler, MinMaxScaler\n",
    "from sklearn.model_selection import train_test_split, ShuffleSplit, cross_val_score, learning_curve\n",
    "from sklearn.model_selection import KFold, GridSearchCV, RandomizedSearchCV\n",
    "from sklearn.metrics import classification_report, f1_score, precision_score, recall_score\n",
    "\n",
    "from sklearn.linear_model import LogisticRegression\n",
    "from sklearn.neighbors import KNeighborsClassifier\n",
    "import xgboost as xgb, lightgbm as lgbm, catboost as catb\n",
    "\n",
    "import seaborn as sns\n",
    "from matplotlib import pyplot as plt\n",
    "%matplotlib inline"
   ]
  },
  {
   "cell_type": "code",
   "execution_count": 29,
   "metadata": {},
   "outputs": [],
   "source": [
    "import warnings\n",
    "warnings.simplefilter('ignore')"
   ]
  },
  {
   "cell_type": "code",
   "execution_count": 30,
   "metadata": {},
   "outputs": [],
   "source": [
    "def get_classification_report(y_train_true, y_train_pred, y_test_true, y_test_pred):\n",
    "    print('TRAIN\\n\\n' + classification_report(y_train_true, y_train_pred))\n",
    "    print('TEST\\n\\n' + classification_report(y_test_true, y_test_pred))\n",
    "    print('CONFUSION MATRIX\\n')\n",
    "    print(pd.crosstab(y_test_true, y_test_pred))"
   ]
  },
  {
   "cell_type": "code",
   "execution_count": 31,
   "metadata": {},
   "outputs": [],
   "source": [
    "def balance_df_by_target(df, target_name):\n",
    "\n",
    "    target_counts = df[target_name].value_counts()\n",
    "\n",
    "    major_class_name = target_counts.argmax()\n",
    "    minor_class_name = target_counts.argmin()\n",
    "\n",
    "    disbalance_coeff = int(target_counts[major_class_name] / target_counts[minor_class_name]) - 1\n",
    "\n",
    "    for i in range(disbalance_coeff):\n",
    "        sample = df[df[target_name] == minor_class_name].sample(target_counts[minor_class_name])\n",
    "        df = df.append(sample, ignore_index=True)\n",
    "\n",
    "    return df.sample(frac=1) "
   ]
  },
  {
   "cell_type": "markdown",
   "metadata": {},
   "source": [
    "**Пути к директориям и файлам**"
   ]
  },
  {
   "cell_type": "code",
   "execution_count": 32,
   "metadata": {},
   "outputs": [],
   "source": [
    "DATASET_PATH = 'training_project_data.csv'\n",
    "PREP_DATASET_PATH = 'training_project_data_prep.csv'\n",
    "\n",
    "SCALER_FILE_PATH = 'scaler.pkl'\n",
    "MODEL_FILE_PATH = 'model.pkl'"
   ]
  },
  {
   "cell_type": "markdown",
   "metadata": {},
   "source": [
    "### Загрузка данных<a class=\"anchor\" id=\"load_data\"></a>"
   ]
  },
  {
   "cell_type": "markdown",
   "metadata": {},
   "source": [
    "**Описание базового датасета**\n",
    "\n",
    "* **LIMIT_BAL** - Сумма предоставленного кредита\n",
    "* **SEX** - Пол (1=мужчина, 2=женщина)\n",
    "* **EDUCATION** - Образование (1=аспирантура, 2=университет, 3=старшая школа, 4=прочее, 5=неизвестно, 6=неизвестно)\n",
    "* **MARRIAGE** - Семейное положение (1=женат/замужен, 2=не женат/не замуженм, 3=прочее)\n",
    "* **AGE** - Возраст (в годах)\n",
    "* **PAY_1** - Статус погашения в Сентябре (-1=погашен полностью, 0=погашен частично, 1=отсрочка платежа на один месяц, .., 3=отсрочка платежа на три месяца и более)\n",
    "* **PAY_2** - Статус погашения в Августе\n",
    "* **PAY_3** - Статус погашения в Июле\n",
    "* **PAY_4** - Статус погашения в Июне\n",
    "* **PAY_5** - Статус погашения в Мае\n",
    "* **PAY_6** - Статус погашения в Апреле\n",
    "* **BILL_AMT1** - Сумма выписки по счету в Сентябре\n",
    "* **BILL_AMT2** - Сумма выписки по счету в Августе\n",
    "* **BILL_AMT3** - Сумма выписки по счету в Июле\n",
    "* **BILL_AMT4** - Сумма выписки по счету в Июне\n",
    "* **BILL_AMT5** - Сумма выписки по счету в Мае\n",
    "* **BILL_AMT6** - Сумма выписки по счету в Апреле\n",
    "* **PAY_AMT1** - Сумма предыдущего платежа в Сентябре\n",
    "* **PAY_AMT2** - Сумма предыдущего платежа в Августе\n",
    "* **PAY_AMT3** - Сумма предыдущего платежа в Июле\n",
    "* **PAY_AMT4** - Сумма предыдущего платежа в Июне\n",
    "* **PAY_AMT5** - Сумма предыдущего платежа в Мае\n",
    "* **PAY_AMT6** - Сумма предыдущего платежа в Апреле\n",
    "* **NEXT_MONTH_DEFAULT** - Просрочка платежа в следующем месяце (1=да, 0=нет)"
   ]
  },
  {
   "cell_type": "code",
   "execution_count": 67,
   "metadata": {},
   "outputs": [
    {
     "data": {
      "text/html": [
       "<div>\n",
       "<style scoped>\n",
       "    .dataframe tbody tr th:only-of-type {\n",
       "        vertical-align: middle;\n",
       "    }\n",
       "\n",
       "    .dataframe tbody tr th {\n",
       "        vertical-align: top;\n",
       "    }\n",
       "\n",
       "    .dataframe thead th {\n",
       "        text-align: right;\n",
       "    }\n",
       "</style>\n",
       "<table border=\"1\" class=\"dataframe\">\n",
       "  <thead>\n",
       "    <tr style=\"text-align: right;\">\n",
       "      <th></th>\n",
       "      <th>LIMIT_BAL</th>\n",
       "      <th>SEX</th>\n",
       "      <th>EDUCATION</th>\n",
       "      <th>MARRIAGE</th>\n",
       "      <th>AGE</th>\n",
       "      <th>PAY_1</th>\n",
       "      <th>PAY_2</th>\n",
       "      <th>PAY_3</th>\n",
       "      <th>PAY_4</th>\n",
       "      <th>PAY_5</th>\n",
       "      <th>...</th>\n",
       "      <th>PAY_4_2</th>\n",
       "      <th>PAY_4_3</th>\n",
       "      <th>PAY_5_-1</th>\n",
       "      <th>PAY_5_0</th>\n",
       "      <th>PAY_5_2</th>\n",
       "      <th>PAY_5_3</th>\n",
       "      <th>PAY_6_-1</th>\n",
       "      <th>PAY_6_0</th>\n",
       "      <th>PAY_6_2</th>\n",
       "      <th>PAY_6_3</th>\n",
       "    </tr>\n",
       "  </thead>\n",
       "  <tbody>\n",
       "    <tr>\n",
       "      <th>0</th>\n",
       "      <td>150000.0</td>\n",
       "      <td>2</td>\n",
       "      <td>2</td>\n",
       "      <td>2</td>\n",
       "      <td>24</td>\n",
       "      <td>1</td>\n",
       "      <td>2</td>\n",
       "      <td>0</td>\n",
       "      <td>0</td>\n",
       "      <td>0</td>\n",
       "      <td>...</td>\n",
       "      <td>0</td>\n",
       "      <td>0</td>\n",
       "      <td>0</td>\n",
       "      <td>1</td>\n",
       "      <td>0</td>\n",
       "      <td>0</td>\n",
       "      <td>0</td>\n",
       "      <td>1</td>\n",
       "      <td>0</td>\n",
       "      <td>0</td>\n",
       "    </tr>\n",
       "    <tr>\n",
       "      <th>1</th>\n",
       "      <td>50000.0</td>\n",
       "      <td>2</td>\n",
       "      <td>3</td>\n",
       "      <td>1</td>\n",
       "      <td>46</td>\n",
       "      <td>3</td>\n",
       "      <td>3</td>\n",
       "      <td>3</td>\n",
       "      <td>3</td>\n",
       "      <td>2</td>\n",
       "      <td>...</td>\n",
       "      <td>0</td>\n",
       "      <td>1</td>\n",
       "      <td>0</td>\n",
       "      <td>0</td>\n",
       "      <td>1</td>\n",
       "      <td>0</td>\n",
       "      <td>0</td>\n",
       "      <td>1</td>\n",
       "      <td>0</td>\n",
       "      <td>0</td>\n",
       "    </tr>\n",
       "    <tr>\n",
       "      <th>2</th>\n",
       "      <td>150000.0</td>\n",
       "      <td>2</td>\n",
       "      <td>2</td>\n",
       "      <td>1</td>\n",
       "      <td>41</td>\n",
       "      <td>-1</td>\n",
       "      <td>-1</td>\n",
       "      <td>-1</td>\n",
       "      <td>-1</td>\n",
       "      <td>0</td>\n",
       "      <td>...</td>\n",
       "      <td>0</td>\n",
       "      <td>0</td>\n",
       "      <td>0</td>\n",
       "      <td>1</td>\n",
       "      <td>0</td>\n",
       "      <td>0</td>\n",
       "      <td>0</td>\n",
       "      <td>1</td>\n",
       "      <td>0</td>\n",
       "      <td>0</td>\n",
       "    </tr>\n",
       "    <tr>\n",
       "      <th>3</th>\n",
       "      <td>150000.0</td>\n",
       "      <td>2</td>\n",
       "      <td>2</td>\n",
       "      <td>2</td>\n",
       "      <td>35</td>\n",
       "      <td>0</td>\n",
       "      <td>0</td>\n",
       "      <td>0</td>\n",
       "      <td>0</td>\n",
       "      <td>0</td>\n",
       "      <td>...</td>\n",
       "      <td>0</td>\n",
       "      <td>0</td>\n",
       "      <td>0</td>\n",
       "      <td>1</td>\n",
       "      <td>0</td>\n",
       "      <td>0</td>\n",
       "      <td>0</td>\n",
       "      <td>1</td>\n",
       "      <td>0</td>\n",
       "      <td>0</td>\n",
       "    </tr>\n",
       "    <tr>\n",
       "      <th>4</th>\n",
       "      <td>70000.0</td>\n",
       "      <td>2</td>\n",
       "      <td>1</td>\n",
       "      <td>1</td>\n",
       "      <td>35</td>\n",
       "      <td>1</td>\n",
       "      <td>2</td>\n",
       "      <td>2</td>\n",
       "      <td>2</td>\n",
       "      <td>2</td>\n",
       "      <td>...</td>\n",
       "      <td>1</td>\n",
       "      <td>0</td>\n",
       "      <td>0</td>\n",
       "      <td>0</td>\n",
       "      <td>1</td>\n",
       "      <td>0</td>\n",
       "      <td>0</td>\n",
       "      <td>1</td>\n",
       "      <td>0</td>\n",
       "      <td>0</td>\n",
       "    </tr>\n",
       "  </tbody>\n",
       "</table>\n",
       "<p>5 rows × 62 columns</p>\n",
       "</div>"
      ],
      "text/plain": [
       "   LIMIT_BAL  SEX  EDUCATION  MARRIAGE  AGE  PAY_1  PAY_2  PAY_3  PAY_4  \\\n",
       "0   150000.0    2          2         2   24      1      2      0      0   \n",
       "1    50000.0    2          3         1   46      3      3      3      3   \n",
       "2   150000.0    2          2         1   41     -1     -1     -1     -1   \n",
       "3   150000.0    2          2         2   35      0      0      0      0   \n",
       "4    70000.0    2          1         1   35      1      2      2      2   \n",
       "\n",
       "   PAY_5  ...  PAY_4_2  PAY_4_3  PAY_5_-1  PAY_5_0  PAY_5_2  PAY_5_3  \\\n",
       "0      0  ...        0        0         0        1        0        0   \n",
       "1      2  ...        0        1         0        0        1        0   \n",
       "2      0  ...        0        0         0        1        0        0   \n",
       "3      0  ...        0        0         0        1        0        0   \n",
       "4      2  ...        1        0         0        0        1        0   \n",
       "\n",
       "   PAY_6_-1  PAY_6_0  PAY_6_2  PAY_6_3  \n",
       "0         0        1        0        0  \n",
       "1         0        1        0        0  \n",
       "2         0        1        0        0  \n",
       "3         0        1        0        0  \n",
       "4         0        1        0        0  \n",
       "\n",
       "[5 rows x 62 columns]"
      ]
     },
     "execution_count": 67,
     "metadata": {},
     "output_type": "execute_result"
    }
   ],
   "source": [
    "df_base = pd.read_csv(DATASET_PATH)\n",
    "df = pd.read_csv(PREP_DATASET_PATH)\n",
    "\n",
    "df.head()"
   ]
  },
  {
   "cell_type": "markdown",
   "metadata": {},
   "source": [
    "**Выделение целевой переменной и групп признаков**"
   ]
  },
  {
   "cell_type": "code",
   "execution_count": 68,
   "metadata": {},
   "outputs": [],
   "source": [
    "TARGET_NAME = 'NEXT_MONTH_DEFAULT'\n",
    "BASE_FEATURE_NAMES = df_base.columns.drop(TARGET_NAME).tolist()\n",
    "NEW_FEATURE_NAMES = df.columns.drop([TARGET_NAME, 'ID'] + BASE_FEATURE_NAMES).tolist()"
   ]
  },
  {
   "cell_type": "markdown",
   "metadata": {},
   "source": [
    "### Отбор признаков<a class=\"anchor\" id=\"feature_selection\"></a>"
   ]
  },
  {
   "cell_type": "code",
   "execution_count": 69,
   "metadata": {},
   "outputs": [],
   "source": [
    "NUMERIC_FEATURE_NAMES = ['LIMIT_BAL', 'AGE', 'BILL_AMT1', 'BILL_AMT2', 'BILL_AMT3', 'BILL_AMT4', 'BILL_AMT5', 'BILL_AMT6',\n",
    "                         'PAY_AMT1', 'PAY_AMT2', 'PAY_AMT3', 'PAY_AMT4', 'PAY_AMT5', 'PAY_AMT6']\n",
    "\n",
    "FEATURE_NAMES_SELECTED = NUMERIC_FEATURE_NAMES + NEW_FEATURE_NAMES"
   ]
  },
  {
   "cell_type": "markdown",
   "metadata": {},
   "source": [
    "### Разбиение на train и test<a class=\"anchor\" id=\"train_and_test\"></a>"
   ]
  },
  {
   "cell_type": "code",
   "execution_count": 74,
   "metadata": {},
   "outputs": [],
   "source": [
    "X = df[FEATURE_NAMES_SELECTED]\n",
    "y = df[TARGET_NAME]\n",
    "\n",
    "X_train, X_test, y_train, y_test = train_test_split(X, y, shuffle=True, test_size=0.25, random_state=211)"
   ]
  },
  {
   "cell_type": "markdown",
   "metadata": {},
   "source": [
    "### Нормализация данных<a class=\"anchor\" id=\"normalization\"></a>"
   ]
  },
  {
   "cell_type": "code",
   "execution_count": 75,
   "metadata": {},
   "outputs": [],
   "source": [
    "scaler = StandardScaler()\n",
    "\n",
    "X_norm = X_train.copy()\n",
    "X_norm[NUMERIC_FEATURE_NAMES] = scaler.fit_transform(X_norm[NUMERIC_FEATURE_NAMES])\n",
    "X_test[NUMERIC_FEATURE_NAMES]=scaler.transform(X_test[NUMERIC_FEATURE_NAMES])\n",
    "X_train = X_norm.copy()"
   ]
  },
  {
   "cell_type": "markdown",
   "metadata": {},
   "source": [
    "### Балансировка целевой переменной<a class=\"anchor\" id=\"target_balancing\"></a>"
   ]
  },
  {
   "cell_type": "code",
   "execution_count": 45,
   "metadata": {},
   "outputs": [
    {
     "data": {
      "text/plain": [
       "0    5852\n",
       "1    4944\n",
       "Name: NEXT_MONTH_DEFAULT, dtype: int64"
      ]
     },
     "execution_count": 45,
     "metadata": {},
     "output_type": "execute_result"
    }
   ],
   "source": [
    "df_for_balancing = pd.concat([X_train, y_train], axis=1)\n",
    "df_balanced = balance_df_by_target(df_for_balancing, TARGET_NAME)\n",
    "    \n",
    "df_balanced[TARGET_NAME].value_counts()"
   ]
  },
  {
   "cell_type": "code",
   "execution_count": 46,
   "metadata": {},
   "outputs": [],
   "source": [
    "X_train = df_balanced.drop(columns=TARGET_NAME)\n",
    "y_train = df_balanced[TARGET_NAME]"
   ]
  },
  {
   "cell_type": "markdown",
   "metadata": {},
   "source": [
    "### Построение и оценка базовых моделей<a class=\"anchor\" id=\"baseline_modeling\"></a> "
   ]
  },
  {
   "cell_type": "markdown",
   "metadata": {},
   "source": [
    "**Логистическая регрессия**"
   ]
  },
  {
   "cell_type": "code",
   "execution_count": 76,
   "metadata": {},
   "outputs": [
    {
     "name": "stdout",
     "output_type": "stream",
     "text": [
      "TRAIN\n",
      "\n",
      "              precision    recall  f1-score   support\n",
      "\n",
      "           0       0.84      0.95      0.89      5852\n",
      "           1       0.68      0.35      0.46      1648\n",
      "\n",
      "    accuracy                           0.82      7500\n",
      "   macro avg       0.76      0.65      0.68      7500\n",
      "weighted avg       0.80      0.82      0.80      7500\n",
      "\n",
      "TEST\n",
      "\n",
      "              precision    recall  f1-score   support\n",
      "\n",
      "           0       0.84      0.96      0.90      1953\n",
      "           1       0.72      0.36      0.48       547\n",
      "\n",
      "    accuracy                           0.83      2500\n",
      "   macro avg       0.78      0.66      0.69      2500\n",
      "weighted avg       0.82      0.83      0.81      2500\n",
      "\n",
      "CONFUSION MATRIX\n",
      "\n",
      "col_0                  0    1\n",
      "NEXT_MONTH_DEFAULT           \n",
      "0                   1876   77\n",
      "1                    349  198\n"
     ]
    }
   ],
   "source": [
    "model_lr = LogisticRegression()\n",
    "model_lr.fit(X_train, y_train)\n",
    "\n",
    "y_train_pred = model_lr.predict(X_train)\n",
    "y_test_pred = model_lr.predict(X_test)\n",
    "\n",
    "get_classification_report(y_train, y_train_pred, y_test, y_test_pred)"
   ]
  },
  {
   "cell_type": "markdown",
   "metadata": {},
   "source": [
    "**k ближайших соседей**"
   ]
  },
  {
   "cell_type": "code",
   "execution_count": 77,
   "metadata": {},
   "outputs": [
    {
     "name": "stdout",
     "output_type": "stream",
     "text": [
      "TRAIN\n",
      "\n",
      "              precision    recall  f1-score   support\n",
      "\n",
      "           0       0.86      0.96      0.91      5852\n",
      "           1       0.76      0.44      0.56      1648\n",
      "\n",
      "    accuracy                           0.85      7500\n",
      "   macro avg       0.81      0.70      0.73      7500\n",
      "weighted avg       0.84      0.85      0.83      7500\n",
      "\n",
      "TEST\n",
      "\n",
      "              precision    recall  f1-score   support\n",
      "\n",
      "           0       0.83      0.93      0.88      1953\n",
      "           1       0.59      0.33      0.42       547\n",
      "\n",
      "    accuracy                           0.80      2500\n",
      "   macro avg       0.71      0.63      0.65      2500\n",
      "weighted avg       0.78      0.80      0.78      2500\n",
      "\n",
      "CONFUSION MATRIX\n",
      "\n",
      "col_0                  0    1\n",
      "NEXT_MONTH_DEFAULT           \n",
      "0                   1824  129\n",
      "1                    365  182\n"
     ]
    }
   ],
   "source": [
    "model_knn = KNeighborsClassifier()\n",
    "model_knn.fit(X_train, y_train)\n",
    "\n",
    "y_train_pred = model_knn.predict(X_train)\n",
    "y_test_pred = model_knn.predict(X_test)\n",
    "\n",
    "get_classification_report(y_train, y_train_pred, y_test, y_test_pred)"
   ]
  },
  {
   "cell_type": "markdown",
   "metadata": {},
   "source": [
    "**Бустинговые алгоритмы**"
   ]
  },
  {
   "cell_type": "markdown",
   "metadata": {},
   "source": [
    "*XGBoost*"
   ]
  },
  {
   "cell_type": "code",
   "execution_count": 78,
   "metadata": {},
   "outputs": [
    {
     "name": "stdout",
     "output_type": "stream",
     "text": [
      "TRAIN\n",
      "\n",
      "              precision    recall  f1-score   support\n",
      "\n",
      "           0       0.85      0.96      0.90      5852\n",
      "           1       0.73      0.38      0.50      1648\n",
      "\n",
      "    accuracy                           0.83      7500\n",
      "   macro avg       0.79      0.67      0.70      7500\n",
      "weighted avg       0.82      0.83      0.81      7500\n",
      "\n",
      "TEST\n",
      "\n",
      "              precision    recall  f1-score   support\n",
      "\n",
      "           0       0.84      0.96      0.90      1953\n",
      "           1       0.72      0.36      0.48       547\n",
      "\n",
      "    accuracy                           0.83      2500\n",
      "   macro avg       0.78      0.66      0.69      2500\n",
      "weighted avg       0.82      0.83      0.81      2500\n",
      "\n",
      "CONFUSION MATRIX\n",
      "\n",
      "col_0                  0    1\n",
      "NEXT_MONTH_DEFAULT           \n",
      "0                   1877   76\n",
      "1                    349  198\n"
     ]
    }
   ],
   "source": [
    "model_xgb = xgb.XGBClassifier(random_state=21)\n",
    "model_xgb.fit(X_train, y_train)\n",
    "\n",
    "y_train_pred = model_xgb.predict(X_train)\n",
    "y_test_pred = model_xgb.predict(X_test)\n",
    "\n",
    "get_classification_report(y_train, y_train_pred, y_test, y_test_pred)"
   ]
  },
  {
   "cell_type": "markdown",
   "metadata": {},
   "source": [
    "*LightGBM*"
   ]
  },
  {
   "cell_type": "code",
   "execution_count": 79,
   "metadata": {},
   "outputs": [
    {
     "name": "stdout",
     "output_type": "stream",
     "text": [
      "TRAIN\n",
      "\n",
      "              precision    recall  f1-score   support\n",
      "\n",
      "           0       0.89      0.99      0.93      5852\n",
      "           1       0.92      0.56      0.69      1648\n",
      "\n",
      "    accuracy                           0.89      7500\n",
      "   macro avg       0.90      0.77      0.81      7500\n",
      "weighted avg       0.89      0.89      0.88      7500\n",
      "\n",
      "TEST\n",
      "\n",
      "              precision    recall  f1-score   support\n",
      "\n",
      "           0       0.84      0.95      0.90      1953\n",
      "           1       0.69      0.37      0.48       547\n",
      "\n",
      "    accuracy                           0.83      2500\n",
      "   macro avg       0.77      0.66      0.69      2500\n",
      "weighted avg       0.81      0.83      0.81      2500\n",
      "\n",
      "CONFUSION MATRIX\n",
      "\n",
      "col_0                  0    1\n",
      "NEXT_MONTH_DEFAULT           \n",
      "0                   1859   94\n",
      "1                    342  205\n"
     ]
    }
   ],
   "source": [
    "model_lgbm = lgbm.LGBMClassifier(random_state=21)\n",
    "model_lgbm.fit(X_train, y_train)\n",
    "\n",
    "y_train_pred = model_lgbm.predict(X_train)\n",
    "y_test_pred = model_lgbm.predict(X_test)\n",
    "\n",
    "get_classification_report(y_train, y_train_pred, y_test, y_test_pred)"
   ]
  },
  {
   "cell_type": "markdown",
   "metadata": {},
   "source": [
    "*CatBoost*"
   ]
  },
  {
   "cell_type": "code",
   "execution_count": 80,
   "metadata": {},
   "outputs": [
    {
     "name": "stdout",
     "output_type": "stream",
     "text": [
      "TRAIN\n",
      "\n",
      "              precision    recall  f1-score   support\n",
      "\n",
      "           0       0.89      0.98      0.93      5852\n",
      "           1       0.90      0.55      0.68      1648\n",
      "\n",
      "    accuracy                           0.89      7500\n",
      "   macro avg       0.89      0.77      0.81      7500\n",
      "weighted avg       0.89      0.89      0.88      7500\n",
      "\n",
      "TEST\n",
      "\n",
      "              precision    recall  f1-score   support\n",
      "\n",
      "           0       0.84      0.95      0.89      1953\n",
      "           1       0.69      0.36      0.47       547\n",
      "\n",
      "    accuracy                           0.82      2500\n",
      "   macro avg       0.76      0.66      0.68      2500\n",
      "weighted avg       0.81      0.82      0.80      2500\n",
      "\n",
      "CONFUSION MATRIX\n",
      "\n",
      "col_0                0.0  1.0\n",
      "NEXT_MONTH_DEFAULT           \n",
      "0                   1863   90\n",
      "1                    350  197\n"
     ]
    }
   ],
   "source": [
    "model_catb = catb.CatBoostClassifier(silent=True, random_state=21)\n",
    "model_catb.fit(X_train, y_train)\n",
    "\n",
    "y_train_pred = model_catb.predict(X_train)\n",
    "y_test_pred = model_catb.predict(X_test)\n",
    "\n",
    "get_classification_report(y_train, y_train_pred, y_test, y_test_pred)"
   ]
  },
  {
   "cell_type": "code",
   "execution_count": 81,
   "metadata": {},
   "outputs": [
    {
     "name": "stdout",
     "output_type": "stream",
     "text": [
      "TRAIN\n",
      "\n",
      "              precision    recall  f1-score   support\n",
      "\n",
      "           0       0.96      0.91      0.93      5852\n",
      "           1       0.73      0.85      0.78      1648\n",
      "\n",
      "    accuracy                           0.90      7500\n",
      "   macro avg       0.84      0.88      0.86      7500\n",
      "weighted avg       0.91      0.90      0.90      7500\n",
      "\n",
      "TEST\n",
      "\n",
      "              precision    recall  f1-score   support\n",
      "\n",
      "           0       0.87      0.86      0.87      1953\n",
      "           1       0.53      0.55      0.54       547\n",
      "\n",
      "    accuracy                           0.79      2500\n",
      "   macro avg       0.70      0.71      0.70      2500\n",
      "weighted avg       0.80      0.79      0.80      2500\n",
      "\n",
      "CONFUSION MATRIX\n",
      "\n",
      "col_0                0.0  1.0\n",
      "NEXT_MONTH_DEFAULT           \n",
      "0                   1682  271\n",
      "1                    245  302\n"
     ]
    }
   ],
   "source": [
    "model_catb = catb.CatBoostClassifier(class_weights=[1,3], silent=True, random_state=21)\n",
    "model_catb.fit(X_train, y_train)\n",
    "\n",
    "y_train_pred = model_catb.predict(X_train)\n",
    "y_test_pred = model_catb.predict(X_test)\n",
    "\n",
    "get_classification_report(y_train, y_train_pred, y_test, y_test_pred)"
   ]
  },
  {
   "cell_type": "markdown",
   "metadata": {},
   "source": [
    "### Выбор лучшей модели и подбор гиперпараметров<a class=\"anchor\" id=\"tuning_best_model\"></a> "
   ]
  },
  {
   "cell_type": "code",
   "execution_count": 82,
   "metadata": {},
   "outputs": [],
   "source": [
    "model_catb = catb.CatBoostClassifier(class_weights=[1,3],silent=True, random_state=21)"
   ]
  },
  {
   "cell_type": "markdown",
   "metadata": {},
   "source": [
    "**Подбор гиперпараметров**"
   ]
  },
  {
   "cell_type": "code",
   "execution_count": 83,
   "metadata": {},
   "outputs": [],
   "source": [
    "params = {'n_estimators':[50, 100, 200, 500], \n",
    "          'max_depth':[3, 5, 7, 10],\n",
    "          'learning_rate':[0.001, 0.01, 0.05, 0.1]}"
   ]
  },
  {
   "cell_type": "code",
   "execution_count": 84,
   "metadata": {},
   "outputs": [],
   "source": [
    "cv=KFold(n_splits=3, random_state=21, shuffle=True)"
   ]
  },
  {
   "cell_type": "code",
   "execution_count": 85,
   "metadata": {},
   "outputs": [
    {
     "name": "stdout",
     "output_type": "stream",
     "text": [
      "Wall time: 1min 48s\n"
     ]
    }
   ],
   "source": [
    "%%time\n",
    "\n",
    "rs = RandomizedSearchCV(model_catb, params, scoring='f1', cv=cv, n_jobs=-1)\n",
    "rs.fit(x_train_n, y_train)"
   ]
  },
  {
   "cell_type": "code",
   "execution_count": 90,
   "metadata": {},
   "outputs": [
    {
     "data": {
      "text/plain": [
       "(7500,)"
      ]
     },
     "execution_count": 90,
     "metadata": {},
     "output_type": "execute_result"
    }
   ],
   "source": [
    "y_train.shape"
   ]
  },
  {
   "cell_type": "code",
   "execution_count": 91,
   "metadata": {},
   "outputs": [
    {
     "data": {
      "text/plain": [
       "{'n_estimators': 500, 'max_depth': 5, 'learning_rate': 0.01}"
      ]
     },
     "execution_count": 91,
     "metadata": {},
     "output_type": "execute_result"
    }
   ],
   "source": [
    "rs.best_params_"
   ]
  },
  {
   "cell_type": "code",
   "execution_count": 92,
   "metadata": {},
   "outputs": [
    {
     "data": {
      "text/plain": [
       "0.5383533221148525"
      ]
     },
     "execution_count": 92,
     "metadata": {},
     "output_type": "execute_result"
    }
   ],
   "source": [
    "rs.best_score_"
   ]
  },
  {
   "cell_type": "markdown",
   "metadata": {},
   "source": [
    "**Обучение и оценка финальной модели**"
   ]
  },
  {
   "cell_type": "code",
   "execution_count": 95,
   "metadata": {},
   "outputs": [
    {
     "name": "stdout",
     "output_type": "stream",
     "text": [
      "Wall time: 6.28 s\n"
     ]
    }
   ],
   "source": [
    "%%time\n",
    "\n",
    "final_model = catb.CatBoostClassifier(n_estimators=500, max_depth=5, learning_rate=0.01,\n",
    "                                      silent=True, random_state=21)\n",
    "final_model.fit(X_train, y_train)\n",
    "\n",
    "y_train_pred = final_model.predict(X_train)\n",
    "y_test_pred = final_model.predict_proba(X_test)\n",
    "\n"
   ]
  },
  {
   "cell_type": "code",
   "execution_count": 102,
   "metadata": {},
   "outputs": [
    {
     "name": "stdout",
     "output_type": "stream",
     "text": [
      "TRAIN\n",
      "\n",
      "              precision    recall  f1-score   support\n",
      "\n",
      "           0       0.84      0.96      0.90      5852\n",
      "           1       0.71      0.37      0.49      1648\n",
      "\n",
      "    accuracy                           0.83      7500\n",
      "   macro avg       0.78      0.66      0.69      7500\n",
      "weighted avg       0.82      0.83      0.81      7500\n",
      "\n",
      "TEST\n",
      "\n",
      "              precision    recall  f1-score   support\n",
      "\n",
      "           0       0.84      0.96      0.90      1953\n",
      "           1       0.72      0.36      0.48       547\n",
      "\n",
      "    accuracy                           0.83      2500\n",
      "   macro avg       0.78      0.66      0.69      2500\n",
      "weighted avg       0.82      0.83      0.81      2500\n",
      "\n",
      "CONFUSION MATRIX\n",
      "\n",
      "col_0               False  True \n",
      "NEXT_MONTH_DEFAULT              \n",
      "0                    1876     77\n",
      "1                     349    198\n"
     ]
    }
   ],
   "source": [
    "get_classification_report(y_train, y_train_pred, y_test, y_test_pred[:,1]>0.5)"
   ]
  },
  {
   "cell_type": "code",
   "execution_count": 101,
   "metadata": {},
   "outputs": [
    {
     "name": "stdout",
     "output_type": "stream",
     "text": [
      "TRAIN\n",
      "\n",
      "              precision    recall  f1-score   support\n",
      "\n",
      "           0       0.84      0.96      0.90      5852\n",
      "           1       0.71      0.37      0.49      1648\n",
      "\n",
      "    accuracy                           0.83      7500\n",
      "   macro avg       0.78      0.66      0.69      7500\n",
      "weighted avg       0.82      0.83      0.81      7500\n",
      "\n",
      "TEST\n",
      "\n",
      "              precision    recall  f1-score   support\n",
      "\n",
      "           0       0.88      0.86      0.87      1953\n",
      "           1       0.53      0.57      0.55       547\n",
      "\n",
      "    accuracy                           0.79      2500\n",
      "   macro avg       0.70      0.71      0.71      2500\n",
      "weighted avg       0.80      0.79      0.80      2500\n",
      "\n",
      "CONFUSION MATRIX\n",
      "\n",
      "col_0               False  True \n",
      "NEXT_MONTH_DEFAULT              \n",
      "0                    1676    277\n",
      "1                     237    310\n"
     ]
    }
   ],
   "source": [
    "get_classification_report(y_train, y_train_pred, y_test, y_test_pred[:,1]>0.25)"
   ]
  },
  {
   "cell_type": "markdown",
   "metadata": {},
   "source": [
    "### Сохранение модели<a class=\"anchor\" id=\"saving_model\"></a> "
   ]
  },
  {
   "cell_type": "markdown",
   "metadata": {},
   "source": [
    "**Scaler**"
   ]
  },
  {
   "cell_type": "code",
   "execution_count": 26,
   "metadata": {},
   "outputs": [],
   "source": [
    "with open(SCALER_FILE_PATH, 'wb') as file:\n",
    "    pickle.dump(scaler, file)"
   ]
  },
  {
   "cell_type": "markdown",
   "metadata": {},
   "source": [
    "**Model**"
   ]
  },
  {
   "cell_type": "code",
   "execution_count": 27,
   "metadata": {},
   "outputs": [],
   "source": [
    "with open(MODEL_FILE_PATH, 'wb') as file:\n",
    "    pickle.dump(final_model, file)"
   ]
  },
  {
   "cell_type": "code",
   "execution_count": null,
   "metadata": {},
   "outputs": [],
   "source": []
  },
  {
   "cell_type": "code",
   "execution_count": null,
   "metadata": {},
   "outputs": [],
   "source": []
  }
 ],
 "metadata": {
  "kernelspec": {
   "display_name": "Python 3",
   "language": "python",
   "name": "python3"
  },
  "language_info": {
   "codemirror_mode": {
    "name": "ipython",
    "version": 3
   },
   "file_extension": ".py",
   "mimetype": "text/x-python",
   "name": "python",
   "nbconvert_exporter": "python",
   "pygments_lexer": "ipython3",
   "version": "3.7.1"
  }
 },
 "nbformat": 4,
 "nbformat_minor": 2
}
